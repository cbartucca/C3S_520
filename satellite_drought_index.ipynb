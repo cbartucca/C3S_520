{
 "cells": [
  {
   "cell_type": "markdown",
   "id": "0",
   "metadata": {},
   "source": [
    "# Drought index"
   ]
  },
  {
   "cell_type": "markdown",
   "id": "1",
   "metadata": {},
   "source": [
    "## Import libraries"
   ]
  },
  {
   "cell_type": "code",
   "execution_count": 54,
   "id": "2",
   "metadata": {},
   "outputs": [],
   "source": [
    "import matplotlib.colors as mcolors\n",
    "import matplotlib.pyplot as plt\n",
    "import xarray as xr\n",
    "import numpy as np\n",
    "from c3s_eqc_automatic_quality_control import diagnostics, download, plot\n",
    "\n",
    "plt.style.use(\"seaborn-v0_8-notebook\")"
   ]
  },
  {
   "cell_type": "markdown",
   "id": "3",
   "metadata": {},
   "source": [
    "## Set parameters"
   ]
  },
  {
   "cell_type": "code",
   "execution_count": 55,
   "id": "4",
   "metadata": {},
   "outputs": [],
   "source": [
    "# Time\n",
    "start = \"2000-01\"\n",
    "stop = \"2022-12\"\n",
    "index_slice = slice(\"2022-06-01\", \"2022-09-30\")\n",
    "\n",
    "# Max value allowed\n",
    "threshold = -1.5\n",
    "\n",
    "# Space\n",
    "area = [58, -10, 36, 30]"
   ]
  },
  {
   "cell_type": "markdown",
   "id": "5",
   "metadata": {},
   "source": [
    "## Define requests"
   ]
  },
  {
   "cell_type": "code",
   "execution_count": 56,
   "id": "6",
   "metadata": {},
   "outputs": [],
   "source": [
    "requests = {\n",
    "    \"ERA5\": (\n",
    "        \"derived-era5-single-levels-daily-statistics\",\n",
    "        {\n",
    "            \"product_type\": \"reanalysis\",\n",
    "            \"variable\": [\"volumetric_soil_water_layer_1\", \"land_sea_mask\"],\n",
    "            \"daily_statistic\": \"daily_mean\",\n",
    "            \"time_zone\": \"utc+00:00\",\n",
    "            \"frequency\": \"1_hourly\",\n",
    "            \"area\": area,\n",
    "        },\n",
    "    ),\n",
    "    \"ESA CCI COM\": (\n",
    "        \"satellite-soil-moisture\",\n",
    "        {\n",
    "            \"variable\": [\"volumetric_surface_soil_moisture\"],\n",
    "            \"type_of_sensor\": [\"combined_passive_and_active\"],\n",
    "            \"time_aggregation\": [\"day_average\"],\n",
    "            \"type_of_record\": [\"cdr\"],\n",
    "            \"version\": [\"v202312\"],\n",
    "        },\n",
    "    ),\n",
    "}\n",
    "target_grid_request = (\n",
    "    \"reanalysis-era5-single-levels\",\n",
    "    {\n",
    "        \"product_type\": [\"reanalysis\"],\n",
    "        \"variable\": [\"land_sea_mask\"],\n",
    "        \"year\": [\"1940\"],\n",
    "        \"month\": [\"01\"],\n",
    "        \"day\": [\"01\"],\n",
    "        \"time\": [\"00:00\"],\n",
    "        \"data_format\": \"grib\",\n",
    "        \"download_format\": \"unarchived\",\n",
    "        \"area\": area,\n",
    "    },\n",
    ")"
   ]
  },
  {
   "cell_type": "markdown",
   "id": "7",
   "metadata": {},
   "source": [
    "## Define functions to cache"
   ]
  },
  {
   "cell_type": "code",
   "execution_count": 57,
   "id": "8",
   "metadata": {},
   "outputs": [],
   "source": [
    "def smooth(obj, window):\n",
    "    obj = obj.chunk(time=-1)\n",
    "    return obj.interpolate_na(\"time\").rolling(time=window, min_periods=1).mean()\n",
    "\n",
    "\n",
    "def compute_anomaly_drought_index(ds, threshold, target_grid_request, **xesmf_kwargs):\n",
    "    # Get raw data\n",
    "    (var_name,) = set(ds.data_vars) & {\"sm\", \"swvl1\"}\n",
    "    raw_data = ds[var_name]\n",
    "\n",
    "    # Mask\n",
    "    if (lsm := ds.get(\"lsm\")) is not None:\n",
    "        raw_data = raw_data.where((lsm > 0.5).all(\"time\"))\n",
    "\n",
    "    # Interpolate\n",
    "    if target_grid_request:\n",
    "        grid_out = download.download_and_transform(\n",
    "            *target_grid_request, invalidate_cache=False\n",
    "        )\n",
    "        grid_out = grid_out[[\"latitude\", \"longitude\"]]\n",
    "        grid_out = grid_out.drop_vars(set(grid_out.variables) - set(grid_out.dims))\n",
    "        raw_data = diagnostics.regrid(raw_data, grid_out, **xesmf_kwargs)\n",
    "    else:\n",
    "        assert not xesmf_kwargs\n",
    "\n",
    "    # Get time-varying index\n",
    "    group_dim = \"time.dayofyear\"\n",
    "    smooth_data_grouped = smooth(raw_data, 11).groupby(group_dim)\n",
    "    sma = raw_data.groupby(group_dim) - smooth_data_grouped.mean()\n",
    "    sma = sma.groupby(group_dim) / smooth_data_grouped.std()\n",
    "    sma = smooth(sma, 3)\n",
    "    sma = sma.where(sma < threshold)\n",
    "    sma.attrs = {\"long_name\": \"Anomaly drought index\", \"units\": \"1\"}\n",
    "    return sma.rename(\"sma\")\n",
    "\n",
    "\n",
    "def compute_severity(sma):\n",
    "    severity = sma.sum(\"time\")\n",
    "    severity = severity.where(severity)\n",
    "    severity.attrs = {\"long_name\": \"Severity\", \"units\": \"1\"}\n",
    "    return severity.rename(\"severity\")\n",
    "\n",
    "\n",
    "def compute_timeseries(ds, threshold, target_grid_request, **xesmf_kwargs):\n",
    "    da = compute_anomaly_drought_index(\n",
    "        ds, threshold=threshold, target_grid_request=target_grid_request, **xesmf_kwargs\n",
    "    )\n",
    "    return diagnostics.spatial_weighted_mean(da).to_dataset()\n",
    "\n",
    "\n",
    "def compute_maps(ds, threshold, index_slice, target_grid_request, **xesmf_kwargs):\n",
    "    sma = compute_anomaly_drought_index(\n",
    "        ds, threshold, target_grid_request, **xesmf_kwargs\n",
    "    )\n",
    "    sma = sma.sel(time=index_slice)\n",
    "    severity = compute_severity(sma)\n",
    "    return xr.merge([sma.min(\"time\", keep_attrs=True), severity])"
   ]
  },
  {
   "cell_type": "markdown",
   "id": "9",
   "metadata": {},
   "source": [
    "## Download and transform"
   ]
  },
  {
   "cell_type": "code",
   "execution_count": 58,
   "id": "10",
   "metadata": {},
   "outputs": [
    {
     "name": "stdout",
     "output_type": "stream",
     "text": [
      "product = 'ERA5'\n",
      "product = 'ESA CCI COM'\n"
     ]
    },
    {
     "name": "stderr",
     "output_type": "stream",
     "text": [
      "100%|██████████| 276/276 [00:41<00:00,  6.60it/s]\n"
     ]
    },
    {
     "ename": "KeyboardInterrupt",
     "evalue": "",
     "output_type": "error",
     "traceback": [
      "\u001b[31m---------------------------------------------------------------------------\u001b[39m",
      "\u001b[31mKeyboardInterrupt\u001b[39m                         Traceback (most recent call last)",
      "\u001b[36mCell\u001b[39m\u001b[36m \u001b[39m\u001b[32mIn[58]\u001b[39m\u001b[32m, line 12\u001b[39m\n\u001b[32m      9\u001b[39m     kwargs[\u001b[33m\"\u001b[39m\u001b[33mmethod\u001b[39m\u001b[33m\"\u001b[39m] = \u001b[33m\"\u001b[39m\u001b[33mconservative\u001b[39m\u001b[33m\"\u001b[39m\n\u001b[32m     11\u001b[39m \u001b[38;5;66;03m# Map\u001b[39;00m\n\u001b[32m---> \u001b[39m\u001b[32m12\u001b[39m ds = \u001b[43mdownload\u001b[49m\u001b[43m.\u001b[49m\u001b[43mdownload_and_transform\u001b[49m\u001b[43m(\u001b[49m\n\u001b[32m     13\u001b[39m \u001b[43m    \u001b[49m\u001b[43mcollection_id\u001b[49m\u001b[43m,\u001b[49m\n\u001b[32m     14\u001b[39m \u001b[43m    \u001b[49m\u001b[43mrequest\u001b[49m\u001b[43m,\u001b[49m\n\u001b[32m     15\u001b[39m \u001b[43m    \u001b[49m\u001b[43mchunks\u001b[49m\u001b[43m=\u001b[49m\u001b[43m{\u001b[49m\u001b[33;43m\"\u001b[39;49m\u001b[33;43myear\u001b[39;49m\u001b[33;43m\"\u001b[39;49m\u001b[43m:\u001b[49m\u001b[43m \u001b[49m\u001b[32;43m1\u001b[39;49m\u001b[43m,\u001b[49m\u001b[43m \u001b[49m\u001b[33;43m\"\u001b[39;49m\u001b[33;43mmonth\u001b[39;49m\u001b[33;43m\"\u001b[39;49m\u001b[43m:\u001b[49m\u001b[43m \u001b[49m\u001b[32;43m1\u001b[39;49m\u001b[43m}\u001b[49m\u001b[43m,\u001b[49m\n\u001b[32m     16\u001b[39m \u001b[43m    \u001b[49m\u001b[43mtransform_func\u001b[49m\u001b[43m=\u001b[49m\u001b[43mcompute_maps\u001b[49m\u001b[43m,\u001b[49m\n\u001b[32m     17\u001b[39m \u001b[43m    \u001b[49m\u001b[43mtransform_func_kwargs\u001b[49m\u001b[43m=\u001b[49m\u001b[43mkwargs\u001b[49m\u001b[43m \u001b[49m\u001b[43m|\u001b[49m\u001b[43m \u001b[49m\u001b[43m{\u001b[49m\u001b[33;43m\"\u001b[39;49m\u001b[33;43mindex_slice\u001b[39;49m\u001b[33;43m\"\u001b[39;49m\u001b[43m:\u001b[49m\u001b[43m \u001b[49m\u001b[43mindex_slice\u001b[49m\u001b[43m}\u001b[49m\u001b[43m,\u001b[49m\n\u001b[32m     18\u001b[39m \u001b[43m    \u001b[49m\u001b[43mtransform_chunks\u001b[49m\u001b[43m=\u001b[49m\u001b[38;5;28;43;01mFalse\u001b[39;49;00m\u001b[43m,\u001b[49m\n\u001b[32m     19\u001b[39m \u001b[43m\u001b[49m\u001b[43m)\u001b[49m\n\u001b[32m     20\u001b[39m datasets_maps.append(ds.expand_dims(product=[product]))\n\u001b[32m     22\u001b[39m \u001b[38;5;66;03m# Timeseries\u001b[39;00m\n",
      "\u001b[36mFile \u001b[39m\u001b[32m/data/common/miniforge3/envs/wp5/lib/python3.11/site-packages/c3s_eqc_automatic_quality_control/download.py:632\u001b[39m, in \u001b[36mdownload_and_transform\u001b[39m\u001b[34m(collection_id, requests, chunks, split_all, transform_func, transform_func_kwargs, transform_chunks, n_jobs, invalidate_cache, cached_open_mfdataset_kwargs, quiet, **open_mfdataset_kwargs)\u001b[39m\n\u001b[32m    628\u001b[39m         cacholote.delete(\n\u001b[32m    629\u001b[39m             func.func, *func.args, request_list=request_list, **func.keywords\n\u001b[32m    630\u001b[39m         )\n\u001b[32m    631\u001b[39m     \u001b[38;5;28;01mwith\u001b[39;00m _set_env(tqdm_disable=quiet):\n\u001b[32m--> \u001b[39m\u001b[32m632\u001b[39m         ds = \u001b[43mfunc\u001b[49m\u001b[43m(\u001b[49m\u001b[43mrequest_list\u001b[49m\u001b[43m=\u001b[49m\u001b[43mrequest_list\u001b[49m\u001b[43m)\u001b[49m\n\u001b[32m    634\u001b[39m ds.attrs.pop(\u001b[33m\"\u001b[39m\u001b[33mcoordinates\u001b[39m\u001b[33m\"\u001b[39m, \u001b[38;5;28;01mNone\u001b[39;00m)  \u001b[38;5;66;03m# Previously added to guarantee roundtrip\u001b[39;00m\n\u001b[32m    635\u001b[39m \u001b[38;5;28;01mreturn\u001b[39;00m ds\n",
      "\u001b[36mFile \u001b[39m\u001b[32m/data/common/miniforge3/envs/wp5/lib/python3.11/site-packages/cacholote/cache.py:102\u001b[39m, in \u001b[36mcacheable.<locals>.wrapper\u001b[39m\u001b[34m(*args, **kwargs)\u001b[39m\n\u001b[32m     99\u001b[39m                 warnings.warn(\u001b[38;5;28mstr\u001b[39m(ex), \u001b[38;5;167;01mUserWarning\u001b[39;00m)\n\u001b[32m    100\u001b[39m                 clean._delete_cache_entries(session, cache_entry)\n\u001b[32m--> \u001b[39m\u001b[32m102\u001b[39m result = \u001b[43mfunc\u001b[49m\u001b[43m(\u001b[49m\u001b[43m*\u001b[49m\u001b[43margs\u001b[49m\u001b[43m,\u001b[49m\u001b[43m \u001b[49m\u001b[43m*\u001b[49m\u001b[43m*\u001b[49m\u001b[43mkwargs\u001b[49m\u001b[43m)\u001b[49m\n\u001b[32m    103\u001b[39m cache_entry = database.CacheEntry(\n\u001b[32m    104\u001b[39m     key=hexdigest,\n\u001b[32m    105\u001b[39m     expiration=settings.expiration,\n\u001b[32m    106\u001b[39m     tag=settings.tag,\n\u001b[32m    107\u001b[39m )\n\u001b[32m    108\u001b[39m \u001b[38;5;28;01mtry\u001b[39;00m:\n",
      "\u001b[36mFile \u001b[39m\u001b[32m/data/common/miniforge3/envs/wp5/lib/python3.11/site-packages/c3s_eqc_automatic_quality_control/download.py:458\u001b[39m, in \u001b[36m_download_and_transform_requests\u001b[39m\u001b[34m(collection_id, request_list, transform_func, transform_func_kwargs, **open_mfdataset_kwargs)\u001b[39m\n\u001b[32m    453\u001b[39m     ds = xr.open_mfdataset(\n\u001b[32m    454\u001b[39m         [source \u001b[38;5;28;01mfor\u001b[39;00m source \u001b[38;5;129;01min\u001b[39;00m sources \u001b[38;5;28;01mif\u001b[39;00m \u001b[38;5;129;01mnot\u001b[39;00m source.endswith(ext_to_skip)],\n\u001b[32m    455\u001b[39m         **open_mfdataset_kwargs,\n\u001b[32m    456\u001b[39m     )\n\u001b[32m    457\u001b[39m \u001b[38;5;28;01melse\u001b[39;00m:\n\u001b[32m--> \u001b[39m\u001b[32m458\u001b[39m     ek_ds = \u001b[43mearthkit\u001b[49m\u001b[43m.\u001b[49m\u001b[43mdata\u001b[49m\u001b[43m.\u001b[49m\u001b[43mfrom_source\u001b[49m\u001b[43m(\u001b[49m\u001b[33;43m\"\u001b[39;49m\u001b[33;43mfile\u001b[39;49m\u001b[33;43m\"\u001b[39;49m\u001b[43m,\u001b[49m\u001b[43m \u001b[49m\u001b[43msources\u001b[49m\u001b[43m)\u001b[49m\n\u001b[32m    459\u001b[39m     \u001b[38;5;28;01mif\u001b[39;00m \u001b[38;5;28misinstance\u001b[39m(ek_ds, GribFieldList):\n\u001b[32m    460\u001b[39m         \u001b[38;5;66;03m# TODO: squeeze=True is cfgrib default\u001b[39;00m\n\u001b[32m    461\u001b[39m         \u001b[38;5;66;03m# https://github.com/ecmwf/earthkit-data/issues/374\u001b[39;00m\n\u001b[32m    462\u001b[39m         open_dataset_kwargs = {\n\u001b[32m    463\u001b[39m             \u001b[33m\"\u001b[39m\u001b[33mchunks\u001b[39m\u001b[33m\"\u001b[39m: {},\n\u001b[32m    464\u001b[39m             \u001b[33m\"\u001b[39m\u001b[33msqueeze\u001b[39m\u001b[33m\"\u001b[39m: \u001b[38;5;28;01mTrue\u001b[39;00m,\n\u001b[32m    465\u001b[39m         } | open_mfdataset_kwargs\n",
      "\u001b[36mFile \u001b[39m\u001b[32m/data/common/miniforge3/envs/wp5/lib/python3.11/site-packages/earthkit/data/sources/__init__.py:161\u001b[39m, in \u001b[36mfrom_source\u001b[39m\u001b[34m(name, lazily, *args, **kwargs)\u001b[39m\n\u001b[32m    159\u001b[39m \u001b[38;5;28;01mwhile\u001b[39;00m src \u001b[38;5;129;01mis\u001b[39;00m \u001b[38;5;129;01mnot\u001b[39;00m prev:\n\u001b[32m    160\u001b[39m     prev = src\n\u001b[32m--> \u001b[39m\u001b[32m161\u001b[39m     src = \u001b[43msrc\u001b[49m\u001b[43m.\u001b[49m\u001b[43mmutate\u001b[49m\u001b[43m(\u001b[49m\u001b[43m)\u001b[49m\n\u001b[32m    162\u001b[39m \u001b[38;5;28;01mreturn\u001b[39;00m src\n",
      "\u001b[36mFile \u001b[39m\u001b[32m/data/common/miniforge3/envs/wp5/lib/python3.11/site-packages/earthkit/data/sources/file.py:73\u001b[39m, in \u001b[36mFileSource.mutate\u001b[39m\u001b[34m(self)\u001b[39m\n\u001b[32m     69\u001b[39m         \u001b[38;5;28mself\u001b[39m.path = \u001b[38;5;28mself\u001b[39m.path[\u001b[32m0\u001b[39m]\n\u001b[32m     70\u001b[39m     \u001b[38;5;28;01melse\u001b[39;00m:\n\u001b[32m     71\u001b[39m         \u001b[38;5;28;01mreturn\u001b[39;00m from_source(\n\u001b[32m     72\u001b[39m             \u001b[33m\"\u001b[39m\u001b[33mmulti\u001b[39m\u001b[33m\"\u001b[39m,\n\u001b[32m---> \u001b[39m\u001b[32m73\u001b[39m             \u001b[43m[\u001b[49m\n\u001b[32m     74\u001b[39m \u001b[43m                \u001b[49m\u001b[43mfrom_source\u001b[49m\u001b[43m(\u001b[49m\u001b[33;43m\"\u001b[39;49m\u001b[33;43mfile\u001b[39;49m\u001b[33;43m\"\u001b[39;49m\u001b[43m,\u001b[49m\u001b[43m \u001b[49m\u001b[43mp\u001b[49m\u001b[43m,\u001b[49m\u001b[43m \u001b[49m\u001b[43mparts\u001b[49m\u001b[43m=\u001b[49m\u001b[43mpart\u001b[49m\u001b[43m,\u001b[49m\u001b[43m \u001b[49m\u001b[38;5;28;43mfilter\u001b[39;49m\u001b[43m=\u001b[49m\u001b[38;5;28;43mself\u001b[39;49m\u001b[43m.\u001b[49m\u001b[43mfilter\u001b[49m\u001b[43m,\u001b[49m\u001b[43m \u001b[49m\u001b[43m*\u001b[49m\u001b[43m*\u001b[49m\u001b[38;5;28;43mself\u001b[39;49m\u001b[43m.\u001b[49m\u001b[43m_kwargs\u001b[49m\u001b[43m)\u001b[49m\n\u001b[32m     75\u001b[39m \u001b[43m                \u001b[49m\u001b[38;5;28;43;01mfor\u001b[39;49;00m\u001b[43m \u001b[49m\u001b[43mp\u001b[49m\u001b[43m,\u001b[49m\u001b[43m \u001b[49m\u001b[43mpart\u001b[49m\u001b[43m \u001b[49m\u001b[38;5;129;43;01min\u001b[39;49;00m\u001b[43m \u001b[49m\u001b[38;5;28;43mzip\u001b[39;49m\u001b[43m(\u001b[49m\u001b[38;5;28;43mself\u001b[39;49m\u001b[43m.\u001b[49m\u001b[43mpath\u001b[49m\u001b[43m,\u001b[49m\u001b[43m \u001b[49m\u001b[38;5;28;43mself\u001b[39;49m\u001b[43m.\u001b[49m\u001b[43mparts\u001b[49m\u001b[43m)\u001b[49m\n\u001b[32m     76\u001b[39m \u001b[43m            \u001b[49m\u001b[43m]\u001b[49m,\n\u001b[32m     77\u001b[39m             \u001b[38;5;28mfilter\u001b[39m=\u001b[38;5;28mself\u001b[39m.filter,\n\u001b[32m     78\u001b[39m             merger=\u001b[38;5;28mself\u001b[39m.merger,\n\u001b[32m     79\u001b[39m         )\n\u001b[32m     81\u001b[39m \u001b[38;5;66;03m# here we must have a file or a directory\u001b[39;00m\n\u001b[32m     82\u001b[39m \u001b[38;5;28;01mif\u001b[39;00m \u001b[38;5;28mself\u001b[39m._kwargs.get(\u001b[33m\"\u001b[39m\u001b[33mindexing\u001b[39m\u001b[33m\"\u001b[39m, \u001b[38;5;28;01mFalse\u001b[39;00m):\n",
      "\u001b[36mFile \u001b[39m\u001b[32m/data/common/miniforge3/envs/wp5/lib/python3.11/site-packages/earthkit/data/sources/file.py:74\u001b[39m, in \u001b[36m<listcomp>\u001b[39m\u001b[34m(.0)\u001b[39m\n\u001b[32m     69\u001b[39m         \u001b[38;5;28mself\u001b[39m.path = \u001b[38;5;28mself\u001b[39m.path[\u001b[32m0\u001b[39m]\n\u001b[32m     70\u001b[39m     \u001b[38;5;28;01melse\u001b[39;00m:\n\u001b[32m     71\u001b[39m         \u001b[38;5;28;01mreturn\u001b[39;00m from_source(\n\u001b[32m     72\u001b[39m             \u001b[33m\"\u001b[39m\u001b[33mmulti\u001b[39m\u001b[33m\"\u001b[39m,\n\u001b[32m     73\u001b[39m             [\n\u001b[32m---> \u001b[39m\u001b[32m74\u001b[39m                 \u001b[43mfrom_source\u001b[49m\u001b[43m(\u001b[49m\u001b[33;43m\"\u001b[39;49m\u001b[33;43mfile\u001b[39;49m\u001b[33;43m\"\u001b[39;49m\u001b[43m,\u001b[49m\u001b[43m \u001b[49m\u001b[43mp\u001b[49m\u001b[43m,\u001b[49m\u001b[43m \u001b[49m\u001b[43mparts\u001b[49m\u001b[43m=\u001b[49m\u001b[43mpart\u001b[49m\u001b[43m,\u001b[49m\u001b[43m \u001b[49m\u001b[38;5;28;43mfilter\u001b[39;49m\u001b[43m=\u001b[49m\u001b[38;5;28;43mself\u001b[39;49m\u001b[43m.\u001b[49m\u001b[43mfilter\u001b[49m\u001b[43m,\u001b[49m\u001b[43m \u001b[49m\u001b[43m*\u001b[49m\u001b[43m*\u001b[49m\u001b[38;5;28;43mself\u001b[39;49m\u001b[43m.\u001b[49m\u001b[43m_kwargs\u001b[49m\u001b[43m)\u001b[49m\n\u001b[32m     75\u001b[39m                 \u001b[38;5;28;01mfor\u001b[39;00m p, part \u001b[38;5;129;01min\u001b[39;00m \u001b[38;5;28mzip\u001b[39m(\u001b[38;5;28mself\u001b[39m.path, \u001b[38;5;28mself\u001b[39m.parts)\n\u001b[32m     76\u001b[39m             ],\n\u001b[32m     77\u001b[39m             \u001b[38;5;28mfilter\u001b[39m=\u001b[38;5;28mself\u001b[39m.filter,\n\u001b[32m     78\u001b[39m             merger=\u001b[38;5;28mself\u001b[39m.merger,\n\u001b[32m     79\u001b[39m         )\n\u001b[32m     81\u001b[39m \u001b[38;5;66;03m# here we must have a file or a directory\u001b[39;00m\n\u001b[32m     82\u001b[39m \u001b[38;5;28;01mif\u001b[39;00m \u001b[38;5;28mself\u001b[39m._kwargs.get(\u001b[33m\"\u001b[39m\u001b[33mindexing\u001b[39m\u001b[33m\"\u001b[39m, \u001b[38;5;28;01mFalse\u001b[39;00m):\n",
      "\u001b[36mFile \u001b[39m\u001b[32m/data/common/miniforge3/envs/wp5/lib/python3.11/site-packages/earthkit/data/sources/__init__.py:161\u001b[39m, in \u001b[36mfrom_source\u001b[39m\u001b[34m(name, lazily, *args, **kwargs)\u001b[39m\n\u001b[32m    159\u001b[39m \u001b[38;5;28;01mwhile\u001b[39;00m src \u001b[38;5;129;01mis\u001b[39;00m \u001b[38;5;129;01mnot\u001b[39;00m prev:\n\u001b[32m    160\u001b[39m     prev = src\n\u001b[32m--> \u001b[39m\u001b[32m161\u001b[39m     src = \u001b[43msrc\u001b[49m\u001b[43m.\u001b[49m\u001b[43mmutate\u001b[49m\u001b[43m(\u001b[49m\u001b[43m)\u001b[49m\n\u001b[32m    162\u001b[39m \u001b[38;5;28;01mreturn\u001b[39;00m src\n",
      "\u001b[36mFile \u001b[39m\u001b[32m/data/common/miniforge3/envs/wp5/lib/python3.11/site-packages/earthkit/data/sources/file.py:91\u001b[39m, in \u001b[36mFileSource.mutate\u001b[39m\u001b[34m(self)\u001b[39m\n\u001b[32m     87\u001b[39m     \u001b[38;5;28;01mreturn\u001b[39;00m FileIndexedSource(\u001b[38;5;28mself\u001b[39m.path, \u001b[38;5;28mfilter\u001b[39m=\u001b[38;5;28mfilter\u001b[39m, merger=\u001b[38;5;28mself\u001b[39m.merger, **kw)\n\u001b[32m     89\u001b[39m \u001b[38;5;66;03m# Give a chance to directories and zip files\u001b[39;00m\n\u001b[32m     90\u001b[39m \u001b[38;5;66;03m# to return a multi-source\u001b[39;00m\n\u001b[32m---> \u001b[39m\u001b[32m91\u001b[39m source = \u001b[38;5;28;43mself\u001b[39;49m\u001b[43m.\u001b[49m\u001b[43m_reader\u001b[49m.mutate_source()\n\u001b[32m     92\u001b[39m \u001b[38;5;28;01mif\u001b[39;00m source \u001b[38;5;129;01mnot\u001b[39;00m \u001b[38;5;129;01min\u001b[39;00m (\u001b[38;5;28;01mNone\u001b[39;00m, \u001b[38;5;28mself\u001b[39m):\n\u001b[32m     93\u001b[39m     source._parent = \u001b[38;5;28mself\u001b[39m\n",
      "\u001b[36mFile \u001b[39m\u001b[32m/data/common/miniforge3/envs/wp5/lib/python3.11/site-packages/earthkit/data/sources/file.py:111\u001b[39m, in \u001b[36mFileSource._reader\u001b[39m\u001b[34m(self)\u001b[39m\n\u001b[32m    108\u001b[39m \u001b[38;5;129m@property\u001b[39m\n\u001b[32m    109\u001b[39m \u001b[38;5;28;01mdef\u001b[39;00m\u001b[38;5;250m \u001b[39m\u001b[34m_reader\u001b[39m(\u001b[38;5;28mself\u001b[39m):\n\u001b[32m    110\u001b[39m     \u001b[38;5;28;01mif\u001b[39;00m \u001b[38;5;28mself\u001b[39m._reader_ \u001b[38;5;129;01mis\u001b[39;00m \u001b[38;5;28;01mNone\u001b[39;00m:\n\u001b[32m--> \u001b[39m\u001b[32m111\u001b[39m         \u001b[38;5;28mself\u001b[39m._reader_ = \u001b[43mreader\u001b[49m\u001b[43m(\u001b[49m\n\u001b[32m    112\u001b[39m \u001b[43m            \u001b[49m\u001b[38;5;28;43mself\u001b[39;49m\u001b[43m,\u001b[49m\n\u001b[32m    113\u001b[39m \u001b[43m            \u001b[49m\u001b[38;5;28;43mself\u001b[39;49m\u001b[43m.\u001b[49m\u001b[43mpath\u001b[49m\u001b[43m,\u001b[49m\n\u001b[32m    114\u001b[39m \u001b[43m            \u001b[49m\u001b[43mcontent_type\u001b[49m\u001b[43m=\u001b[49m\u001b[38;5;28;43mself\u001b[39;49m\u001b[43m.\u001b[49m\u001b[43mcontent_type\u001b[49m\u001b[43m,\u001b[49m\n\u001b[32m    115\u001b[39m \u001b[43m            \u001b[49m\u001b[38;5;66;43;03m# parts=self.parts,\u001b[39;49;00m\n\u001b[32m    116\u001b[39m \u001b[43m        \u001b[49m\u001b[43m)\u001b[49m\n\u001b[32m    117\u001b[39m     \u001b[38;5;28;01mreturn\u001b[39;00m \u001b[38;5;28mself\u001b[39m._reader_\n",
      "\u001b[36mFile \u001b[39m\u001b[32m/data/common/miniforge3/envs/wp5/lib/python3.11/site-packages/earthkit/data/readers/__init__.py:227\u001b[39m, in \u001b[36mreader\u001b[39m\u001b[34m(source, path, **kwargs)\u001b[39m\n\u001b[32m    225\u001b[39m n_bytes = CONFIG.get(\u001b[33m\"\u001b[39m\u001b[33mreader-type-check-bytes\u001b[39m\u001b[33m\"\u001b[39m)\n\u001b[32m    226\u001b[39m \u001b[38;5;28;01mwith\u001b[39;00m \u001b[38;5;28mopen\u001b[39m(path, \u001b[33m\"\u001b[39m\u001b[33mrb\u001b[39m\u001b[33m\"\u001b[39m) \u001b[38;5;28;01mas\u001b[39;00m f:\n\u001b[32m--> \u001b[39m\u001b[32m227\u001b[39m     magic = f.read(n_bytes)\n\u001b[32m    229\u001b[39m LOG.debug(\u001b[33m\"\u001b[39m\u001b[33mLooking for a reader for \u001b[39m\u001b[38;5;132;01m%s\u001b[39;00m\u001b[33m (\u001b[39m\u001b[38;5;132;01m%s\u001b[39;00m\u001b[33m)\u001b[39m\u001b[33m\"\u001b[39m, path, magic)\n\u001b[32m    231\u001b[39m \u001b[38;5;28;01mreturn\u001b[39;00m _find_reader(\n\u001b[32m    232\u001b[39m     \u001b[33m\"\u001b[39m\u001b[33mreader\u001b[39m\u001b[33m\"\u001b[39m,\n\u001b[32m    233\u001b[39m     source,\n\u001b[32m   (...)\u001b[39m\u001b[32m    236\u001b[39m     **kwargs,\n\u001b[32m    237\u001b[39m )\n",
      "\u001b[31mKeyboardInterrupt\u001b[39m: "
     ]
    }
   ],
   "source": [
    "datasets_maps = []\n",
    "datasets_timeseries = []\n",
    "for product, (collection_id, request) in requests.items():\n",
    "    print(f\"{product = }\")\n",
    "    request = download.update_request_date(request, start, stop, stringify_dates=True)\n",
    "    kwargs = {\"threshold\": threshold, \"target_grid_request\": None}\n",
    "    if product == \"Satellite\":\n",
    "        kwargs[\"target_grid_request\"] = target_grid_request\n",
    "        kwargs[\"method\"] = \"conservative\"\n",
    "\n",
    "    # Map\n",
    "    ds = download.download_and_transform(\n",
    "        collection_id,\n",
    "        request,\n",
    "        chunks={\"year\": 1, \"month\": 1},\n",
    "        transform_func=compute_maps,\n",
    "        transform_func_kwargs=kwargs | {\"index_slice\": index_slice},\n",
    "        transform_chunks=False,\n",
    "    )\n",
    "    datasets_maps.append(ds.expand_dims(product=[product]))\n",
    "\n",
    "    # Timeseries\n",
    "    ds = download.download_and_transform(\n",
    "        collection_id,\n",
    "        request,\n",
    "        chunks={\"year\": 1, \"month\": 1},\n",
    "        transform_func=compute_timeseries,\n",
    "        transform_func_kwargs=kwargs,\n",
    "        transform_chunks=False,\n",
    "    )\n",
    "    datasets_timeseries.append(ds.expand_dims(product=[product]))\n",
    "ds_maps = xr.combine_by_coords(datasets_maps)\n",
    "ds_timeseries = xr.combine_by_coords(datasets_timeseries)"
   ]
  },
  {
   "cell_type": "markdown",
   "id": "11",
   "metadata": {},
   "source": [
    "## Plot timeseries"
   ]
  },
  {
   "cell_type": "code",
   "execution_count": null,
   "id": "12",
   "metadata": {},
   "outputs": [],
   "source": [
    "da = ds_timeseries[\"sma\"]\n",
    "mask = da[\"time\"].dt.month.isin([6, 7, 8, 9])\n",
    "da = da.where(mask, drop=True).groupby(\"time.year\").mean(keep_attrs=True)\n",
    "da.plot(hue=\"product\")\n",
    "plt.ylim(-2.5, -1.5)\n",
    "plt.xlim(2000, 2022)\n",
    "plt.yticks(np.arange(-2.5, -1.49, 0.5)) \n",
    "plt.xticks(np.arange(2000, 2023, 2))\n",
    "plt.ylabel(\"standardised anomalies [1]\")\n",
    "plt.grid()"
   ]
  },
  {
   "cell_type": "markdown",
   "id": "13",
   "metadata": {},
   "source": [
    "## Plot maps"
   ]
  },
  {
   "cell_type": "code",
   "execution_count": null,
   "id": "14",
   "metadata": {},
   "outputs": [],
   "source": [
    "for variable, da in ds_maps.data_vars.items():\n",
    "    # Products\n",
    "    match variable:\n",
    "        case \"sma\":\n",
    "            colors = [\"#fe0000\", \"#fc7f01\", \"#ff9f00\", \"#febd01\", \"#fee819\", \"#e4ff7a\"]\n",
    "            levels = [-8.0, -6.0, -5.0, -4.0, -3.0, -2.0, -1.5]\n",
    "        case \"severity\":\n",
    "            colors = [\"#fe0000\", \"#fc7f01\", \"#ff9f00\", \"#febd01\", \"#fee819\", \"#e4ff7a\"]\n",
    "            levels = [-300, -250, -200, -150, -100, -50, 0]\n",
    "        case _:\n",
    "            raise NotImplementedError(f\"{variable = }\")\n",
    "    cmap = mcolors.ListedColormap(colors)\n",
    "    norm = mcolors.BoundaryNorm(levels, cmap.N)\n",
    "    plot.projected_map(da, levels=levels, cmap=cmap, norm=norm, col=\"product\", show_stats=False)\n",
    "    plt.show()\n",
    "\n",
    "    \n",
    "    # Bias\n",
    "    with xr.set_options(keep_attrs=True):\n",
    "        bias = da.diff(\"product\").drop_vars(\"product\")\n",
    "    bias.attrs[\"long_name\"] = \"Bias of \" + bias.long_name\n",
    "    plot.projected_map(bias, show_stats=False)\n",
    "    plt.title(\" - \".join(da[\"product\"].values.tolist()[::-1]))\n",
    "    plt.show()\n",
    "\n",
    "    "
   ]
  },
  {
   "cell_type": "code",
   "execution_count": null,
   "id": "db2454cf-060f-44c0-9f76-eb1a3c0bcbaf",
   "metadata": {},
   "outputs": [],
   "source": []
  }
 ],
 "metadata": {
  "kernelspec": {
   "display_name": "Python 3 (ipykernel)",
   "language": "python",
   "name": "python3"
  },
  "language_info": {
   "codemirror_mode": {
    "name": "ipython",
    "version": 3
   },
   "file_extension": ".py",
   "mimetype": "text/x-python",
   "name": "python",
   "nbconvert_exporter": "python",
   "pygments_lexer": "ipython3",
   "version": "3.11.11"
  }
 },
 "nbformat": 4,
 "nbformat_minor": 5
}
