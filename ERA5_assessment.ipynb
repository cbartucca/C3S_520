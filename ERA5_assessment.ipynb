{
 "cells": [
  {
   "cell_type": "markdown",
   "id": "5b833e3a-69a2-4bbe-a6f2-2de3e4c6578d",
   "metadata": {},
   "source": [
    "<img src='LogoLine_horizon_C3S.png'\n",
    "    alt = \"alt_text\" align = \"center\"\n",
    "    width = \"1000\"\n",
    "    height = \"500 \"/>\n"
   ]
  },
  {
   "cell_type": "markdown",
   "id": "f1e8f915-3d39-4d15-bc80-07602bd96c3f",
   "metadata": {},
   "source": [
    "# Reanalysis bias assessment in probing local dynamical properties\n",
    "\n",
    "## Investigating large-scale flows in the marine boundary layer over remote regions   \n",
    "\n",
    "## Quality assessment question\n",
    "* **Are state-of-the-art reanalysis products a good representation of near-surface temperature, wind and humidity conditions over the Pacific Northwest Ocean?**\n",
    "\n",
    "Comparing model outputs with relevant observations allows one to detect and quantify the difference between the model and the observations. However, validating reanalysis products over remote areas is challenging due to the sparsity of reliable in-situ measurements. Here the ERA5 reanalysis is validated with data gathered during the 2022 and 2023 campaigns by the Aeroclipper platform [1]. The Aeroclipper is a quasi-Lagrangian balloon, providing in situ measurements of atmospheric parameters at heights of 30 to 40 metres over the ocean [[2]](https://www.researchgate.net/publication/236867248_The_Aeroclipper_A_New_Device_to_Explore_Convective_Systems_and_Cyclones), that are representative of the bottom of the boundary layer which interacts strongly with turbulent fluxes (momentum,\n",
    "energy, water) at the ocean-atmosphere interface. This balloon is an interesting instrument for evaluating the representation of the atmospheric surface layer by models and by meteorological reanalyses, because it can give high frequency, quality measurements - i.e. undisturbed by the mass of a ship - on quasi-Lagrangian trajectories, that can be compared to the gridded data. \n",
    "\n",
    "## Quality assessment statement\n",
    "\n",
    "```{admonition} These are the key outcomes of this assessment\n",
    "* Differences between model and observations were found to be systematic. Biases are at least partly due to data assimilation known issues [4,5,6,7];\n",
    "\n",
    "* Moisture and temperature vertical gradients are found to be too large in ERA5 compared with Aeroclipper measurements; a too small wind shear near the surface is also detected in the reanalysis."
   ]
  },
  {
   "cell_type": "markdown",
   "id": "628f64c7-6eba-4a4b-887f-6ba22e153969",
   "metadata": {},
   "source": [
    "# Methodology\n",
    "\n",
    "In order to assess the representation of the surface layer in ERA5, a comparison between Aeroclipper measurements - not assimilated in the model - and the reanalysis, is carried out for the six Aeroclipper flights performed over the northwest Pacific in 2022 and 2023. \n",
    "Results are based on a one-hour average for Aeroclipper measurements and for interpolated ERA5 values at the balloon position. For consistency with the height at which the measurements are taken, both the variables at 2m and those of the first three model levels of ERA5 [[2]](https://confluence.ecmwf.int/display/UDOC/L137+model+level+definitions) are taken into account for comparison. This means that reference must be made both to the single levels dataset, for the former, and to the complete dataset for the latter. \n",
    "   \n",
    "Results are shown for:\n",
    "\n",
    "**1. [Specific humidity](#specific_humidity)**\n",
    "\n",
    "**2. [Air temperature and radiative temperature at the surface](#air_temperature_and_radiative_temperature_at_the_surface)**\n",
    "\n",
    "**3. [Wind speed](#wind_speed)**\n",
    "\n",
    "<img src=\"https://www.lmd.ens.fr/vasco/content/bin/images/large/IMG_2445.jpg\"\n",
    "    alt = \"alt_text\" align = \"center\"\n",
    "    width = \"300\"/>\n",
    "<img src=\"https://www.lmd.ens.fr/vasco/content/bin/images/large/IMG_2447.jpg\"\n",
    "    alt = \"alt_text\" align = \"center\"\n",
    "    width = \"300\"/>\n",
    "    \n",
    "*Sample of an Aeroclipper and its payload.*"
   ]
  },
  {
   "cell_type": "markdown",
   "id": "0d45453c-4d7f-4e4e-a971-7445f187964c",
   "metadata": {},
   "source": [
    "<img src=\"flights.png\"\n",
    "    align = \"center\"\n",
    "    width = \"400\"\n",
    "    height = \"400\" />\n",
    "\n",
    "*Trajectories of the six Aeroclipper flights (PRL ,PCU and BKA) in 2022 and (YTT, UEW and PYX) in 2023.*"
   ]
  },
  {
   "cell_type": "markdown",
   "id": "8b500e47-0191-4f97-8871-306cfa5a0268",
   "metadata": {},
   "source": [
    "## Analysis and results"
   ]
  },
  {
   "cell_type": "markdown",
   "id": "bf678793-1e92-4230-a463-a62c8cd40e7b",
   "metadata": {},
   "source": [
    "<a id='specific_humidity'></a>\n",
    "### 1. Specific humidity"
   ]
  },
  {
   "cell_type": "markdown",
   "id": "95f85b9e-a205-47dd-bd73-f4010ddde06c",
   "metadata": {},
   "source": [
    "<img src='q_tseries.png'\n",
    "    align = \"center\"\n",
    "    width = \"1000\"\n",
    "    height = \"500\"/> <br>\n",
    "*Timeseries of specific humidity (q), for the YTT Aeroclipper measurement (solid black), ERA5 surface parameters (dotted black) and ERA5 for the first three model hybrid levels (solid colors). The timeseries are smoothed with a running mean with ∆t=60 minutes.*"
   ]
  },
  {
   "cell_type": "markdown",
   "id": "9f6a1906-0583-4ee3-bac8-2c5e5d97b835",
   "metadata": {},
   "source": [
    "<img src='q_distr_lev.png'\n",
    "    align = \"left\"\n",
    "    width = \"300\"\n",
    "    height = \"300\"/> \n",
    "<img src='q_distr_sur.png'\n",
    "    align = \"center\"\n",
    "    width = \"300\"\n",
    "    height = \"300\"/> <br>\n",
    "    \n",
    "*Distribution of the differences between Aeroclipper measurements for the six flights and corresponding ERA-5 values at model level 2 (i.e., ~31m) (left) and at 2m (right) for the specific humidity (∆q).*"
   ]
  },
  {
   "cell_type": "markdown",
   "id": "6536b379-4313-4182-a250-8e5efa53e807",
   "metadata": {},
   "source": [
    "Analysis shows that the specific humidity above 10 m is underestimated by more than 1 g/kg. Underestimation of specific humidity on the three first levels of the model seems to be, at least partly, related to the assimilation process, which tends to dry these model levels at the beginning of each 12h assimilation window [[3]](https://doi.org/10.1256/qj.05.137). Then a moistening follows, but without reaching an equilibrium or a value close to those observed. At 2m, the drying due to the assimilation is smaller, and the moisture reaches an equilibrium after a few hours in the forecast, so specific humidity at 2 m is in better agreement with Aeroclipper measurements, but still with a negative bias COMMENT WITH THIE REFERENCE [[4]]. This leads to the conclusion that vertical gradients of moisture in the atmospheric surface layer are too large in ERA5 compared with Aeroclipper measurements."
   ]
  },
  {
   "cell_type": "markdown",
   "id": "1069e576-3fdc-4d5f-83a8-437b971f87bb",
   "metadata": {},
   "source": [
    "<a id='air_temperature_and_radiative_temperature_at_the_surface'></a>\n",
    "### 2. Air temperature and radiative temperature at the surface"
   ]
  },
  {
   "cell_type": "markdown",
   "id": "a768b9df-0767-469a-969a-c8353b499bb6",
   "metadata": {},
   "source": [
    "<img src='T_tseries.png'\n",
    "     width = \"1000\"\n",
    "    height = \"500\"/> \n",
    "\n",
    "*Timeseries of air temperature (T), for the YTT Aeroclipper measurement (solid black, observed Tair during daylight in grey), ERA5 surface parameters (dotted black) and ERA5 for the first three model hybrid levels (solid colors). The timeseries are smoothed with a running mean with ∆t=60 minutes.*"
   ]
  },
  {
   "cell_type": "markdown",
   "id": "f3f8b671-b032-4fab-b1e1-25427cc2130d",
   "metadata": {},
   "source": [
    "<img src='T_distr.png'\n",
    "     width = \"700\"\n",
    "    height = \"700\"/> \n",
    "\n",
    "*Distribution of the differences between Aeroclipper measurements for the three 2023 flights and corresponding ERA-5 values at model level 2 (i.e., ~31m) for the air temperature (∆T) during daytime only (left) and nighttime only (right).*"
   ]
  },
  {
   "cell_type": "markdown",
   "id": "e7138047-5327-4ff8-998a-3eeba5449602",
   "metadata": {},
   "source": [
    "Temperature measurements come from a PT1000 thermometer. Analysis shows that the air temperature of the first three model levels is underestimated by about 1 K in ERA5 compared to Aeroclipper measurements. In most cases, the temperature difference at 2m is similar to the temperature at the first three model levels and is sometimes even smaller. The bias seems to be due to overcooling of the surface layer by the model, particularly at night during the forecast, and corrected in part by the assimilation process [[4]](https://doi.org/10.1256/qj.05.137). Moreover, ERA5 underestimation is only marginally impacted by the diurnal cycle."
   ]
  },
  {
   "cell_type": "markdown",
   "id": "b9454bc0-4217-4d62-9b94-e3055de6e0c9",
   "metadata": {},
   "source": [
    "<img src='SST_tseries.png'\n",
    "     width = \"1000\"\n",
    "    height = \"500\"/> \n",
    "\n",
    "*Timeseries of sea surface temperature (SST), for the YTT Aeroclipper measurement (solid black), ERA5 surface parameters (dotted black) and ERA5 for the first three model hybrid levels (solid colors). The timeseries are smoothed with a running mean with ∆t=60 minutes.*"
   ]
  },
  {
   "cell_type": "markdown",
   "id": "fab95bc8-9b70-4e22-8b8c-c11171b42b89",
   "metadata": {},
   "source": [
    "Regarding the temperature at the interface with the ocean, an IR radiometer makes radiometric equivalent brightness temperature available. These values have been compared with the ERA5 skin and sea surface temperature (SKT and SST). As expected, as the YTT flight covers the end of September, the ERA5 SKT is generally smaller than the ERA5 SST, with the exception of low wind speed conditions where a diurnal warm layer develops. At the same time, SKT is slightly larger than the radiative temperature measurement of the Aeroclipper. It should be noted that since there is no measurement of downward IR radiation at the surface, no correction has been applied to the Aeroclipper radiative temperature, partly explaining the ERA5 overestimation. The lower skin radiative temperature measured by the Aeroclipper may also be due in part to the absence of correction for radiative transfer between the surface and the radiometer, whereby the approximately 35 m of rather damp layer may affect the IR transmission in the water vapour continuum. Nevertheless, this result is in substantial agreement with the one in He et al., 2023 [[6]](https://ieeexplore.ieee.org/document/10243150), in which in-situ and satellite data are used to validate ERA5 near-surface air temperature over global oceans (see i.e. Fig 11). \n",
    "In conclusion, assuming that the SKT is well represented in ERA5, this study shows that vertical gradients of temperature in the atmospheric surface layer are too large in ERA5 compared with Aeroclipper measurements."
   ]
  },
  {
   "cell_type": "markdown",
   "id": "9858daa2-15ca-4716-b0fc-4d99ba1fa978",
   "metadata": {},
   "source": [
    "<a id='wind_speed'></a>\n",
    "### 3. Wind speed"
   ]
  },
  {
   "cell_type": "markdown",
   "id": "32bc432e-0716-496d-8765-0257aad32cf0",
   "metadata": {},
   "source": [
    "<img src='ws_tseries.png'\n",
    "    width = \"1000\"\n",
    "    height = \"500\"/> <br>\n",
    "*Timeseries of wind speed (V) for the YTT Aeroclipper measurement (solid black), ERA5 surface parameters (dotted black) and ERA5 for the first three model hybrid levels (solid colors). The timeseries are smoothed with a running mean with ∆t=60 minutes.*\n"
   ]
  },
  {
   "cell_type": "markdown",
   "id": "e3ed24c5-183e-4857-9351-f3ffe74fc154",
   "metadata": {},
   "source": [
    "<img src='ws_distr.png'\n",
    "    width = \"400\"\n",
    "    height = \"400\"/> <br>\n",
    "*Distribution of the differences between Aeroclipper measurements for the six flights and corresponding ERA-5 values at model level 2 (i.e., ~31m) (left) and at 2m (right) for the wind speed (∆V). The timeseries are smoothed with a running mean with ∆t=60 minutes.*"
   ]
  },
  {
   "cell_type": "markdown",
   "id": "9fd6c0d4-4a4d-4f3c-b9cb-59c23d2340f6",
   "metadata": {},
   "source": [
    "Analysis shows that the wind speed is underestimated by about 0.5 ms-1 in ERA5 compared to Aeroclipper measurements. The wind underestimation is greater during convective episodes associated with convective cold pools and large wind gust (see around September 22, for example). The underestimate of the wind speed therefore seems to be partly related to the lack of cold pool in the model. Also, there is a slight decrease in wind due to assimilation that is compensated for during the forecast. Here it can therefore be stated that in ERA5 there is a too small wind shear near the surface."
   ]
  },
  {
   "cell_type": "markdown",
   "id": "aa52ef13-50af-48b7-91d1-756e9953e8cf",
   "metadata": {},
   "source": [
    "## If you want to know more\n",
    "\n",
    "To find out the differences with respect to near-surface variables over the tropical Pacific between the state-of-the-art ERA5 and the previous ERA Interim version, see for example F Li et al., 2021 [[8]](https://iopscience.iop.org/article/10.1088/2515-7620/ac1bfe/meta).\n",
    "\n",
    "\n",
    "### Key resources\n",
    "\n",
    "Some key resources and further readings were linked throughout this assessment.\n",
    "\n",
    "The CDS catalogue entries for the data used were:\n",
    "* ERA5 monthly averaged data on single levels from 1940 to present: https://cds.climate.copernicus.eu/cdsapp#!/dataset/reanalysis-era5-single-levels-monthly-means?tab=overview\n",
    "* Complete ERA5 global atmospheric reanalysis: https://cds.climate.copernicus.eu/cdsapp#!/dataset/reanalysis-era5-complete?tab=overview\n",
    "\n",
    "### References\n",
    "\n",
    "[1] Paul Poli, personal communication, 2024\n",
    "\n",
    "[[2]](https://www.researchgate.net/publication/236867248_The_Aeroclipper_A_New_Device_to_Explore_Convective_Systems_and_Cyclones) Duvel, Jean Philippe & Basdevant, Claude & Bellenger, Hugo & Reverfdin, Gilles & Vialard, Jerome & Vargas, a. (2009). The Aeroclipper: A New Device to Explore Convective Systems and Cyclones. Bulletin of the American Meteorological Society. 90. 63-71. 10.1175/2008BAMS2500.1.\n",
    "\n",
    "[[3]](https://confluence.ecmwf.int/display/UDOC/L137+model+level+definitions) ECMWF Confluence page\n",
    "\n",
    "[[4]](https://doi.org/10.1256/qj.05.137) Dee, D.P. (2005), Bias and data assimilation. Q.J.R. Meteorol. Soc., 131: 3323-3343. https://doi.org/10.1256/qj.05.137.\n",
    "\n",
    "[[5]](https://acp.copernicus.org/articles/22/15559/2022/) Krüger, K., Schäfler, A., Wirth, M., Weissmann, M., and Craig, G. C.: Vertical structure of the lower-stratospheric moist bias in the ERA5 reanalysis and its connection to mixing processes, Atmos. Chem. Phys., 22, 15559–15577, https://doi.org/10.5194/acp-22-15559-2022, 2022.\n",
    "\n",
    "[[6]](https://ieeexplore.ieee.org/document/10243150) M. He, J. Qin, N. Lu and L. Yao, \"Assessment of ERA5 Near-Surface Air Temperatures Over Global Oceans by Combining MODIS Sea Surface Temperature Products and In-Situ Observations,\" in IEEE Journal of Selected Topics in Applied Earth Observations and Remote Sensing, vol. 16, pp. 8442-8455, 2023, doi: 10.1109/JSTARS.2023.3312810.\n",
    "\n",
    "[[7]](https://www.mdpi.com/2072-4292/14/19/4918#:~:text=However%2C%20the%20ERA5%20surface%20winds,higher%20percentiles%20that%20require%20calibration.) Campos RM, Gramcianinov CB, de Camargo R, da Silva Dias PL. Assessment and Calibration of ERA5 Severe Winds in the Atlantic Ocean Using Satellite Data. Remote Sensing. 2022; 14(19):4918. https://doi.org/10.3390/rs14194918.\n",
    "\n",
    "[[8]](https://iopscience.iop.org/article/10.1088/2515-7620/ac1bfe/meta) Jui-Lin F Li et al 2021, Improved ice content, radiation, precipitation and low-level circulation over the tropical pacific from ECMWF ERA-interim to ERA5, Environ. Res. Commun. 3 081006.\n",
    " "
   ]
  },
  {
   "cell_type": "code",
   "execution_count": null,
   "id": "6fafb19d-c5d0-47d9-9cbf-a196bcee91ec",
   "metadata": {},
   "outputs": [],
   "source": []
  }
 ],
 "metadata": {
  "kernelspec": {
   "display_name": "Python 3 (ipykernel)",
   "language": "python",
   "name": "python3"
  },
  "language_info": {
   "codemirror_mode": {
    "name": "ipython",
    "version": 3
   },
   "file_extension": ".py",
   "mimetype": "text/x-python",
   "name": "python",
   "nbconvert_exporter": "python",
   "pygments_lexer": "ipython3",
   "version": "3.10.10"
  }
 },
 "nbformat": 4,
 "nbformat_minor": 5
}
