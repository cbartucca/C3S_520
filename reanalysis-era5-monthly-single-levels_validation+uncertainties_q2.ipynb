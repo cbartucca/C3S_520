{
 "cells": [
  {
   "cell_type": "markdown",
   "id": "413dba49-9cfd-44a6-9f1b-dbe508a23ea9",
   "metadata": {},
   "source": [
    "<img src='LogoLine_horizon_C3S.png'\n",
    "    align = \"center\"\n",
    "    width = \"1000\"\n",
    "    height = \"500 \"/>"
   ]
  },
  {
   "cell_type": "markdown",
   "id": "209a66a3-4332-4072-9109-0b7502bac698",
   "metadata": {
    "jp-MarkdownHeadingCollapsed": true
   },
   "source": [
    "# Reanalysis comparison with observations for validation purposes \n",
    "\n",
    "Production date: 12-06-2024\n",
    "\n",
    "Produced by: CNR\n",
    "\n",
    "##  Investigating space-time variability of surface wind speed and its extremes in support of the wind energy sector  \n",
    "\n",
    "## Quality assessment question\n",
    "\n",
    "- **Are state-of-the-art reanalysis products a good representation of inland surface and near-surface wind speed?**\n"
   ]
  },
  {
   "cell_type": "markdown",
   "id": "b4994f3a-cf3c-4da5-8789-4f72fceed329",
   "metadata": {},
   "source": [
    "Here we extract results from three recent scientific literature, which concentrate on evaluating ERA5 in its capability to correctly represent the wind speed both at surface and at the wind turbine hub heights, over those regions where the wind speed is significant for the wind energy production. Overall, ERA5 emerges as the most reliable and accurate reanalysis dataset across these studies, particularly excelling in representing near-surface winds, climatological patterns, and extreme weather events. Its high resolution and operational updates make it a valuable tool for climate studies and wind energy applications. However, caution is advised for long-term trend analysis, where a combination of multiple reanalyses is preferable.\n"
   ]
  },
  {
   "cell_type": "markdown",
   "id": "1629c77c-f626-40df-9b5b-9d8aaa92fbed",
   "metadata": {},
   "source": [
    "## Quality assessment statements\n",
    "\n",
    "* ERA5 is the best-performing reanalysis for near-surface wind estimates and provides valuable climate information in near-real time, beneficial for various wind energy applications.\n",
    "* Accuracy: ERA5 shows good agreement with observational data across Europe. It successfully captures the spatial and temporal variability of wind speeds.\n",
    "* Biases: Some regional biases are noted, but overall, ERA5 performs better than previous reanalyses, such as ERA-Interim.\n",
    "* Climatological Patterns: ERA5 effectively reproduces climatological patterns and extremes, providing a reliable dataset for wind energy and climate studies.\n",
    "* Extremes: Both overestimation of light wind frequency and underestimation of strong wind frequency, and thus extreme events, is inherent in the nature of models.\n",
    "* Trends: A combination of several reanalyses is preferable when analysing long-term trends.\n"
   ]
  },
  {
   "cell_type": "markdown",
   "id": "61ed3666-cdb2-4386-a7d4-cd9274b8c0da",
   "metadata": {},
   "source": [
    "# Methodology"
   ]
  },
  {
   "cell_type": "markdown",
   "id": "f738ed33-ed37-45c8-890b-9e43d8bb8ebc",
   "metadata": {},
   "source": [
    "The different spatio temporal characteristics of the wind field are of different interest depending on application. Here we finalize this work in support of the wind energy production, extrapolating results from recent scientific literature available [[1]](https://rmets.onlinelibrary.wiley.com/doi/full/10.1002/qj.3616), [[2]](https://doi.org/10.1175/JAMC-D-20-0037.1). A focus over Europe is also reported [[3]](http://dx.doi.org/10.1002/joc.7103). \n",
    "\n",
    "In order to assess the representation of the surface and near-surface wind speed field in the European Centre for Medium-Range Weather Forecast (ECMWF) latest reanalysis (ERA5), uncertainties are provided through the comparison with its predecessor, ERA Interim [[4]](https://doi.org/10.1002/qj.828), and other three state-of-the-art reanalysis products, that are JRA-55 [[5]](https://doi.org/10.2151/jmsj.2015-001), MERRA-2 [[6]](https://doi.org/10.1175/JCLI-D-16-0758.1), and CFSv2 [[7]](https://doi.org/10.1175/JCLI-D-12-00823.1).\n",
    "\n",
    "Also, validation is done through a comparison between wind speed measurements - not assimilated in the model - and the reanalysis, carried out for two different [observational datasets](#Observational_datasets_can_be_publicly_accessed_at:), described in the following. It is worth mentioning that none of the reanalyses ingests surface winds from land stations.\n",
    "\n",
    "    * The Tall Tower Dataset\n",
    "\n",
    "It is a worldwide network composed, at the time of the publication of the paper we are citing, by 222 towers [[8]](https://doi.org/10.5194/essd-12-429-2020). The dataset contains quality-controlled wind observations plus other climate observations such as temperature or relative humidity. Among these, those with the longest wind data series were selected, and compared to the average life of such a mast, the achievable length is around 3 years. SO here the validation will be done through the comparison with the resulting 77 towers available.\n",
    "\n",
    "<img src='towers.png'\n",
    "     width = \"700\"\n",
    "    height = \"700\"/>\n",
    "    \n",
    "*Figure 1: [[1]](https://rmets.onlinelibrary.wiley.com/doi/full/10.1002/qj.3616) Global distribution of the 77 tall towers. Colours indicate, for each tall tower, the height of the measuring level employed in this study.*\n",
    "\n",
    "    * The HadISD \n",
    "\n",
    "It is a worldwide web composed of more than 8000 weather stations, which data are collected from NOAA's NCDC to create a global Integrated Surface Dataset (ISD), and distributed by the UK Met Office Hadley Centre. So here the validation will be done through the comparison with the Met Office Hadley Centre's ISD, or HadISD, version 3.1.0.2019f, a global subdaily dataset based on the ISD. The 245 stations selected in the paper we are citing are those in Europe that have valid values in at least the 90% hourly of the time steps for the period 1979–2018. This results in 245 hourly averaged wind speed series at 10m height.   \n",
    "\n",
    "<img src='met_stations.png'\n",
    "     width = \"700\"\n",
    "    height = \"700\"/> \n",
    "\n",
    "*Figure 2: [[3]](http://dx.doi.org/10.1002/joc.7103) situation in the map of each meteorological station. Colour scale represents the score (see [Regional frequency distribution of hourly data](#regional_frequency_distribution_of_hourly_data)) of each location. The frequency distribution of the stations marked with a red symbol are represented in Figure 5: station 88 (× symbol), station 132 (square), station 240 (triangle) and station 242 (upside-down triangle).*\n",
    "\n",
    "For consistency with the height at which the measurements are taken, both the variables at 10 m and those at 100 m of ERA5 are taken into account for comparison. The [hourly single levels dataset](#The_CDS_catalogue_entries_for_the_data_used_were:) is basically used with different time aggregation. When needed, to adjust both surface and near-surface to the closest 100m tower height, a vertical extrapolation of reanalysis wind speed is performed using a power-law relation:\n",
    "\n",
    "$$\n",
    "\\frac{U_2}{U_1} = (\\frac{z_2}{z_1})^\\alpha\n",
    "$$\n",
    "\n",
    "where U2 and U1 represent wind speeds at heights z2 (e.g. 110 m) and z1 (e.g. 10 m), respectively, and $\\alpha$ is a nondimensional wind\n",
    "shear exponent, which is typically set to 0.143 [[9]](https://doi.org/10.1080/00022470.1977.10470503) [[10]](https://doi.org/10.1016/j.rser.2016.01.057) [[11]](https://doi.org/10.1016/j.energy.2018.11.027).\n",
    "\n",
    "Results are shown for:\n",
    "\n",
    "**1. [Uncertainties and validation in the tower regions with seasonal average](#uncertainties_and_validation_in_the_tower_regions_with_seasonal_average)**\n",
    "\n",
    "* [Validation over Europe with monthly average](#validation_over_Europe_with_monthly_average)\n",
    "\n",
    "* [Regional frequency distribution of hourly data](#regional_frequency_distribution_of_hourly_data)\n",
    "\n",
    "**2. [Trends](trends)**\n"
   ]
  },
  {
   "cell_type": "markdown",
   "id": "c0b04e74-d82c-493f-8f1d-2a4ff7c58b4e",
   "metadata": {},
   "source": [
    "## Analysis and results"
   ]
  },
  {
   "cell_type": "markdown",
   "id": "12ccb3a0-1293-4445-a5b0-8eb963832481",
   "metadata": {},
   "source": [
    "<a id='uncertainties_and_validation_in_the_tower_regions_with_seasonal_average'></a>\n",
    "### 1. Uncertainties and validation in the tower regions with seasonal average"
   ]
  },
  {
   "cell_type": "markdown",
   "id": "4f9c8579-0290-4743-b129-f7ca15e6bed1",
   "metadata": {},
   "source": [
    "<img src='clim_world.png'\n",
    "    width = \"1000\"\n",
    "    height = \"700\"/> \n",
    "\n",
    "*Figure 3: [[1]](https://rmets.onlinelibrary.wiley.com/doi/full/10.1002/qj.3616) Box plots summarizing the differences between observed and modelled seasonal climatologies for 77 tall towers in (a) December–January–February and (b) June–July–August*"
   ]
  },
  {
   "cell_type": "markdown",
   "id": "fe4e0aa4-5a81-4dbe-8724-308519ea0a92",
   "metadata": {},
   "source": [
    "In this figure, seasonal climatologies have been computed from both tall tower observations and reanalysis datasets and their differences are plotted by means of box plots. The ERA5 and MERRA2 near-surface seasonal mean winds, together with surface winds from the five reanalysis products, are assessed. The multi-reanalysis mean (MR), which has been computed using only surface wind fields, is also included. \n",
    "\n",
    "In general terms, reanalysis datasets tend to show weaker seasonal mean winds than observed in both December–January–February (DJF) and December–January–February (JJA), JRA55 being the dataset that provides the widest range of values, as well as the biggest underestimation, out of the five reanalyses plus the MR. Regarding ERA5, it is observed that the near-surface winds reduce the spread of differences in JJA compared with the ERA5 surface winds."
   ]
  },
  {
   "cell_type": "markdown",
   "id": "9a151a76-07e3-44f0-8dd4-23f1ef4beec4",
   "metadata": {},
   "source": [
    "<a id='validation_over_Europe_with_monthly_average'></a>\n",
    "#### Validation over Europe with monthly average"
   ]
  },
  {
   "cell_type": "markdown",
   "id": "57ecfce0-7f3c-4108-94e6-7f4ef158d5f2",
   "metadata": {},
   "source": [
    "<img src='clim_europe.png'\n",
    "    width = \"1000\"\n",
    "    height = \"700\"/> \n",
    "\n",
    "*Figure 4: [[3]](http://dx.doi.org/10.1002/joc.7103) Monthly wind speed (1979–2018) of HadISD meteorological stations (green colour) and ERA5 cells (transparent colour) box plots. Limits of the boxes represent the locations in the 25th and 75th percentile, and the black line in the middle represents the 50th percentile. The upper whisker is located at the maximum value, whereas the lower whisker is located at the minimum value.*"
   ]
  },
  {
   "cell_type": "markdown",
   "id": "6fcb57f9-ecc1-48ee-80c6-ddf7a3e9c4ca",
   "metadata": {},
   "source": [
    "Figure above shows the average annual cycle of 245 locations (weather stations and corresponding reanalysis grid cells) across Europe. Each box represents the average monthly distribution of hourly data at the stations over the period 1979-2018, green are the observations, transparent the reanalysis.\n",
    "\n",
    "In substantial agreement with what found in section 1, it can be noted that ERA5 presents median values that are slightly larger in winter and slightly smaller in summer, and that upper extreme wind values (whisker ends) are generally larger for ERA5 than for observations, which means that the reanalysis gives a wider range of monthly wind values for the analysed period. \n",
    "It can be particularly noted for the autumn-winter months (DJF and SON). Cold months (SON, DJF) also exhibit a clear asymmetry in ERA5 boxes, with lower percentiles width (25–50) larger than higher ones (50–75), which is not seen in observations boxes, although interquartile range (percentile 75 vs. percentile 25) is quite similar for both observations and reanalysis. Summer ERA5 boxes are, on the contrary, symmetric, although lower box values (percentile 25) seem to give smaller values than observational ones. Differences among locations seem to be larger in autumn-winter months, as the interquartile range and whiskers are bigger in DJF and SON, in both series. "
   ]
  },
  {
   "cell_type": "markdown",
   "id": "2d121f42-d387-4b28-b449-fa938dc87e91",
   "metadata": {},
   "source": [
    "<a id='regional_frequency_distribution_of_hourly_data'></a>\n",
    "#### Regional frequency distribution of hourly data"
   ]
  },
  {
   "cell_type": "markdown",
   "id": "27e7bf5d-ba7e-41bf-ad1e-4af07d3aedea",
   "metadata": {},
   "source": [
    "<img src='hourly_freq.png'\n",
    "    width = \"1000\"\n",
    "    height = \"700\"/> \n",
    "\n",
    "*Figure 5: [[3]](http://dx.doi.org/10.1002/joc.7103) Frequency distribution of the hourly ERA5 reanalysis vs HadISD observations illustrating the total score in (a: station 88) the best score test (0.97) and (b: station 132, c: station 240 and d: station 242) the poorest score (0.45, 0.45 and 0.5, respectively). The location of each station can be seen marked with a red symbol in Figure 2: × symbol for station 88, square for 132, triangle for 240 and upside-down triangle for 242*"
   ]
  },
  {
   "cell_type": "markdown",
   "id": "60dbc15d-96cb-426e-909e-4b0d53f1eda8",
   "metadata": {},
   "source": [
    "The score is an evaluation method based on the amount of overlap between the frequency distribution of the wind speed for observations:\n",
    "\n",
    "$$\n",
    "score = \\sum_1^n min(Z_m,Z_0)\n",
    "$$\n",
    "\n",
    "where n is the number of bins used to calculate the frequency distribution for a given location (here, 0.5 m/s has been used as bin size), $Z_m$ is the fraction (or frequency) of values in a given bin from the reanalysis and $Z_0$ is the fraction (or frequency) of values in a given bin from the observed data. The sum of all $Z$ m is 1, and the same for $Z_0$ sum.\n",
    "\n",
    "To illustrate specific cases with small and, more interestingly, large differences between wind distributions, figure 5 presents hourly frequency distribution performance of the best (a: station 88) and some of the worst (b: station 132, c: station 240 and d: station 242) stations. In the best one, reanalysis and observation distributions perfectly fits. For the poorer scored stations, it is seen that\n",
    "the reanalysis tends to largely overestimate lower wind speed frequencies (0–3 m/s range) and underestimate the higher ones (4–8 m/s range).\n",
    "\n",
    "Both overestimation of light wind frequency and underestimation of strong wind frequency, have been also seen in previous works when models are used and can be related to the fact that solving the dynamics equations is applied to each point continuously, to grids of defined. Also, parameterizations in models, which means a limitation in several ways to fully describe atmospheric mechanisms, can lead to an underestimation of the most extreme events (see e.g. [[12]](https://doi.org/10.1002/we.318); [[13]](https://doi.org/10.1016/j.renene.2014.10.024))."
   ]
  },
  {
   "cell_type": "markdown",
   "id": "be82926b-3e55-4523-96ba-19a2712a1277",
   "metadata": {},
   "source": [
    "<a id='trends'></a>\n",
    "### 2. Trends"
   ]
  },
  {
   "cell_type": "markdown",
   "id": "cb80625b-57ba-4d14-b145-0f79c5564011",
   "metadata": {},
   "source": [
    "<img src='trend_world.png'\n",
    "    width = \"1000\"\n",
    "    height = \"700\"/> \n",
    "\n",
    "*Figure 6: [[1]](https://rmets.onlinelibrary.wiley.com/doi/full/10.1002/qj.3616) Normalized linear trend (% per decade), calculated as the linear trend of surface wind speeds divided by the seasonal mean surface wind speeds in DJF over the 1980–2017 period for (a) ERA-Interim, (b) ERA5, (c) JRA55, (d) MERRA2, and (e) R1. Hatched regions in (a)–(e) indicate where the trends are significant at the 95% confidence level. In (f) we represent an agreement map between the five reanalyses. Blues (reds) indicate agreement between the five reanalyses about the negative (positive) trends in the surface wind speed in DJF in the 1980–2017 period. An asterisk indicates that the trends are significant at the 95% confidence level: no asterisk indicates that the trends are not significant. One asterisk (∗) means that only one of the reanalyses has significant trends, two asterisks (∗∗) inform us that two reanalyses have significant trends, and so on.*"
   ]
  },
  {
   "cell_type": "markdown",
   "id": "275ee29d-76b0-4b23-bd06-96606f323447",
   "metadata": {},
   "source": [
    "<img src='trend_world_2.jpg'\n",
    "    width = \"1000\"\n",
    "    height = \"700\"/> \n",
    "\n",
    "*Figure 7: [[2]](https://doi.org/10.1175/JAMC-D-20-0037.1) Comparison on the overall trends during 1989–2018 in the observations against that in the five products. The gray, red, blue, pink, green, and orange bars represent observations, ERA5, ERA-Interim, JRA-55, CFSv2, and MERRA-2, respectively. The error bars show the upper and lower confidence limits of the Sen slope [[14]](https://doi.org/10.1016/j.gloplacha.2012.10.014) values with 95% confidence interval. Significance levels are expressed with stars, triangles, and circles, representing p < 0.01, p < 0.05, and p > 0.05, respectively.*\n"
   ]
  },
  {
   "cell_type": "markdown",
   "id": "31db63df-677c-4272-a9c0-087af0f88023",
   "metadata": {},
   "source": [
    "Linear trends are presented in Figure 6 and 7 as the rate of change of wind speed over the considered period for the five chosen reanalysis products. At a global scale, no products show significant agreement with observations and large uncertainties and disagreements can be found between the reanalysis products. \n",
    "\n",
    "Also, observed land surface wind speeds have varied significantly over the past few decades, the decreasing trends having recently reversed (see e.g. Fig. 4, [[2]](https://doi.org/10.1175/JAMC-D-20-0037.1)). \n",
    "\n",
    "This is clearly connected to the assessment of wind resources. Regionally, recent increasing wind speed trends have led to rapid growth in potential wind energy production after the turning points - see Table 5, [[2]](https://doi.org/10.1175/JAMC-D-20-0037.1) - in Asia, including the increasing by 45% in Southeast Asia, 34% in East Asia, 30% in central Asia, and 23% in South Asia. In addition, potential wind energy production in South and North America, Africa, Australia, and Europe has increased by 20%, 10%, 12%, 23%, and 2%, respectively. Despite relatively slow growth of wind energy in Europe, the trends of potential wind energy production in all regions is positive in recent decades.\n",
    "\n",
    "After the turning point, however, none of the reanalysis products shows the same positive and significant wind speed trend as the observations (p < 0.05). Figure 8 shows that the products are highly uncertain in reproducing the observed decadal variations of wind speed at both the global and regional scale.\n",
    "\n"
   ]
  },
  {
   "cell_type": "markdown",
   "id": "53961209-b605-4d6d-a6dd-bb56e3196c4f",
   "metadata": {},
   "source": [
    "<img src='trend_world_3.jpg'\n",
    "    width = \"1000\"\n",
    "    height = \"700\"/> \n",
    "\n",
    "*Figure 8: [[2]](https://doi.org/10.1175/JAMC-D-20-0037.1) Comparisons of the piecewise trends of the five reanalysis products with the observations in the following regions: (a) global, (b) North America, (c) central Asia, (d) Southeast Asia, (e) Africa, (f) Europe, (g) South America, (h) East Asia, (i) South Asia, and (j) Australia. The gray, red, blue, pink, green, and orange bars represent observations, ERA5, ERA-Interim, JRA-55, CFSv2, and MERRA-2, respectively. The trends and their 95% confidence intervals of Sen slope are calculated in each segment period using an M-K test. Significance levels are expressed with three stars, two stars, and n.s., representing p < 0.01, p < 0.05, and p > 0.05, respectively.*"
   ]
  },
  {
   "cell_type": "markdown",
   "id": "3c3224bf-8ee8-4780-96cf-53e03d9b0e67",
   "metadata": {},
   "source": [
    "## If you want to know more\t\n",
    "### Key resources\n",
    "\n",
    "Some key resources and further readings were linked throughout this assessment. \n",
    "\n",
    "<a id='The_CDS_catalogue_entries_for_the_data_used_were:'></a>\n",
    "The CDS catalogue entries for the data used were:\n",
    "\n",
    "* ERA5 hourly data on single levels from 1940 to present: https://cds.climate.copernicus.eu/cdsapp#!/dataset/reanalysis-era5-single-levels?tab=overview\n",
    "  \n",
    "* ERA5 monthly averaged data on single levels from 1940 to present: https://cds.climate.copernicus.eu/cdsapp#!/dataset/reanalysis-era5-single-levels-monthly-means?tab=overview\n",
    "\n",
    "<a id='Observational_datasets_can_be_publicly_accessed_at:'></a>\n",
    "Observational datasets can be publicly accessed at: \n",
    "\n",
    "* The Tall Tower Dataset: in the data repository EUDAT at https://doi.org/10.23728/b2share.0d3a99db75df4238820ee548f35ee36b\n",
    "\n",
    "* HadISD: https://www.metoffice.gov.uk/hadobs/hadisd/\n"
   ]
  },
  {
   "cell_type": "markdown",
   "id": "ed21a5da-6a10-43e5-80a1-374834993c9e",
   "metadata": {},
   "source": [
    "### References\n",
    "\n",
    "[[1]](https://rmets.onlinelibrary.wiley.com/doi/full/10.1002/qj.3616) Ramon, J. et al., 2019: What global reanalysis best represents near-surface winds? Quart. J. Roy. Meteor. Soc., 145, 3236–3251\n",
    "\n",
    "[[2]](https://doi.org/10.1175/JAMC-D-20-0037.1) Fan, W., Y. Liu, A. Chappell, L. Dong, R. Xu, M. Ekström, T. Fu, and Z. Zeng, 2021: Evaluation of Global Reanalysis Land Surface Wind Speed Trends to Support Wind Energy Development Using In Situ Observations. J. Appl. Meteor. Climatol., 60, 33–50\n",
    "\n",
    "[[3]](http://dx.doi.org/10.1002/joc.7103) Molina, M., Gutiérrez, C., Sánchez, E. Int J Climatol. 2021;41:4864–4878\n",
    "\n",
    "[[4]](https://doi.org/10.1002/qj.828) Dee, D. P., and Coauthors, 2011: The ERA-Interim reanalysis:\n",
    "Configuration and performance of the data assimilation system. Quart. J. Roy. Meteor. Soc., 137, 553–597\n",
    "\n",
    "[[5]](https://doi.org/10.2151/jmsj.2015-001) Kobayashi, S., and Coauthors, 2015: The JRA-55 reanalysis:\n",
    "General specifications and basic characteristics. J. Meteor. Soc. Japan, 93, 5–48 \n",
    "\n",
    "[[6]](https://doi.org/10.1175/JCLI-D-16-0758.1) Gelaro, R., and Coauthors, 2017: The Modern-Era Retrospective Analysis for Research and Applications, version 2 (MERRA-2). J. Climate, 30, 5419–5454\n",
    "\n",
    "[[7]](https://doi.org/10.1175/JCLI-D-12-00823.1) Saha, S., and Coauthors, 2014: The NCEP Climate Forecast System Version 2. J. Climate, 27, 2185–2208\n",
    "\n",
    "[[8]](https://doi.org/10.5194/essd-12-429-2020) Ramon, J. and Lledó, L. (2019) The Tall Tower Dataset. Technical Note. Barcelona: Barcelona Supercomputing Center–Centro Nacional de Supercomputación. Technical Report: 1. https://earth.bsc.es/wiki/libexefetch.php?media=library:external:technical_memoranda:technical_report_talltower_database_v2.pdf\n",
    "\n",
    "[[9]](https://doi.org/10.1080/00022470.1977.10470503) Touma, J.S. (1977) Dependence of the wind profile power law on stability for various locations. Journal of the Air Pollution Control Association, 27, 863–866. https://doi.org/10.1080/00022470.1977.10470503\n",
    "\n",
    "[[10]](https://doi.org/10.1016/j.rser.2016.01.057) Wang, J., J. Hu, and K. Ma, 2016: Wind speed probability distribution estimation and wind energy assessment. Renewable Sustainable Energy Rev., 60, 881–899, https://doi.org/10.1016/j.rser.2016.01.057\n",
    "\n",
    "[[11]](https://doi.org/10.1016/j.energy.2018.11.027) Tian, Q., G. Huang, K. Hu, and D. Niyogi, 2019: Observed and global climate model based changes in wind power potential over the Northern Hemisphere during 1979–2016. Energy, 167, 1224–1235, https://doi.org/10.1016/j.energy.2018.11.027\n",
    "\n",
    "[[12]](https://doi.org/10.1002/we.318) Larsén, X. and Mann, J. (2009) Extreme winds from the ncep/ncar reanalysis data. Wind Energy, 12, 556–573\n",
    "\n",
    "[[13]](https://doi.org/10.1016/j.renene.2014.10.024) Cannon, D., Brayshaw, D., Methven, J., Coker, P. and Lenaghan, D. (2015) Using reanalysis data to quantify extreme wind power generation statistics: a 33 year case study in Great Britain. Renewable Energy, 75, 767–778\n",
    "\n",
    "[[14]](https://doi.org/10.1016/j.gloplacha.2012.10.014) Gocic, M., and S. Trajkovic, 2013: Analysis of changes in meteorological variables using Mann–Kendall and Sen’s slope estimator statistical tests in Serbia. Global Planet. Change, 100, 172–182"
   ]
  },
  {
   "cell_type": "code",
   "execution_count": null,
   "id": "262b735f-97ab-4c10-a956-9108ebdb23e6",
   "metadata": {},
   "outputs": [],
   "source": []
  }
 ],
 "metadata": {
  "kernelspec": {
   "display_name": "Python 3 (ipykernel)",
   "language": "python",
   "name": "python3"
  },
  "language_info": {
   "codemirror_mode": {
    "name": "ipython",
    "version": 3
   },
   "file_extension": ".py",
   "mimetype": "text/x-python",
   "name": "python",
   "nbconvert_exporter": "python",
   "pygments_lexer": "ipython3",
   "version": "3.10.10"
  }
 },
 "nbformat": 4,
 "nbformat_minor": 5
}
